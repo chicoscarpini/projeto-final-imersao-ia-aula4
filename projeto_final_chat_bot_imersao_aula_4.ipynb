{
  "nbformat": 4,
  "nbformat_minor": 0,
  "metadata": {
    "colab": {
      "provenance": [],
      "authorship_tag": "ABX9TyNqtJFoYKNK6G1r5qaVHCzW",
      "include_colab_link": true
    },
    "kernelspec": {
      "name": "python3",
      "display_name": "Python 3"
    },
    "language_info": {
      "name": "python"
    }
  },
  "cells": [
    {
      "cell_type": "markdown",
      "metadata": {
        "id": "view-in-github",
        "colab_type": "text"
      },
      "source": [
        "<a href=\"https://colab.research.google.com/github/chicoscarpini/projeto-final-imersao-ia-aula4/blob/main/projeto_final_chat_bot_imersao_aula_4.ipynb\" target=\"_parent\"><img src=\"https://colab.research.google.com/assets/colab-badge.svg\" alt=\"Open In Colab\"/></a>"
      ]
    },
    {
      "cell_type": "code",
      "execution_count": 1,
      "metadata": {
        "colab": {
          "base_uri": "https://localhost:8080/",
          "height": 339
        },
        "id": "QNolQRwl_hxx",
        "outputId": "04c18d87-db68-4186-c0b6-1bccfd2102a5"
      },
      "outputs": [
        {
          "output_type": "stream",
          "name": "stdout",
          "text": [
            "Olá! Sou o jap_ai, seu guia para a cultura do Japão.\n"
          ]
        },
        {
          "output_type": "error",
          "ename": "KeyboardInterrupt",
          "evalue": "Interrupted by user",
          "traceback": [
            "\u001b[0;31m---------------------------------------------------------------------------\u001b[0m",
            "\u001b[0;31mKeyboardInterrupt\u001b[0m                         Traceback (most recent call last)",
            "\u001b[0;32m<ipython-input-1-3f3923a32a09>\u001b[0m in \u001b[0;36m<cell line: 55>\u001b[0;34m()\u001b[0m\n\u001b[1;32m     54\u001b[0m \u001b[0;34m\u001b[0m\u001b[0m\n\u001b[1;32m     55\u001b[0m \u001b[0;32mif\u001b[0m \u001b[0m__name__\u001b[0m \u001b[0;34m==\u001b[0m \u001b[0;34m'__main__'\u001b[0m\u001b[0;34m:\u001b[0m\u001b[0;34m\u001b[0m\u001b[0;34m\u001b[0m\u001b[0m\n\u001b[0;32m---> 56\u001b[0;31m   \u001b[0mjap_ai\u001b[0m\u001b[0;34m(\u001b[0m\u001b[0;34m)\u001b[0m\u001b[0;34m\u001b[0m\u001b[0;34m\u001b[0m\u001b[0m\n\u001b[0m",
            "\u001b[0;32m<ipython-input-1-3f3923a32a09>\u001b[0m in \u001b[0;36mjap_ai\u001b[0;34m()\u001b[0m\n\u001b[1;32m     40\u001b[0m   \u001b[0mprint\u001b[0m\u001b[0;34m(\u001b[0m\u001b[0;34m\"Olá! Sou o jap_ai, seu guia para a cultura do Japão.\"\u001b[0m\u001b[0;34m)\u001b[0m\u001b[0;34m\u001b[0m\u001b[0;34m\u001b[0m\u001b[0m\n\u001b[1;32m     41\u001b[0m   \u001b[0;32mwhile\u001b[0m \u001b[0;32mTrue\u001b[0m\u001b[0;34m:\u001b[0m\u001b[0;34m\u001b[0m\u001b[0;34m\u001b[0m\u001b[0m\n\u001b[0;32m---> 42\u001b[0;31m     \u001b[0mpergunta_usuario\u001b[0m \u001b[0;34m=\u001b[0m \u001b[0minput\u001b[0m\u001b[0;34m(\u001b[0m\u001b[0;34m\"O que você gostaria de saber? (ou digite 'sair' para finalizar): \"\u001b[0m\u001b[0;34m)\u001b[0m\u001b[0;34m\u001b[0m\u001b[0;34m\u001b[0m\u001b[0m\n\u001b[0m\u001b[1;32m     43\u001b[0m     \u001b[0;32mif\u001b[0m \u001b[0mpergunta_usuario\u001b[0m\u001b[0;34m.\u001b[0m\u001b[0mlower\u001b[0m\u001b[0;34m(\u001b[0m\u001b[0;34m)\u001b[0m \u001b[0;34m==\u001b[0m \u001b[0;34m\"sair\"\u001b[0m\u001b[0;34m:\u001b[0m\u001b[0;34m\u001b[0m\u001b[0;34m\u001b[0m\u001b[0m\n\u001b[1;32m     44\u001b[0m       \u001b[0;32mbreak\u001b[0m\u001b[0;34m\u001b[0m\u001b[0;34m\u001b[0m\u001b[0m\n",
            "\u001b[0;32m/usr/local/lib/python3.10/dist-packages/ipykernel/kernelbase.py\u001b[0m in \u001b[0;36mraw_input\u001b[0;34m(self, prompt)\u001b[0m\n\u001b[1;32m    849\u001b[0m                 \u001b[0;34m\"raw_input was called, but this frontend does not support input requests.\"\u001b[0m\u001b[0;34m\u001b[0m\u001b[0;34m\u001b[0m\u001b[0m\n\u001b[1;32m    850\u001b[0m             )\n\u001b[0;32m--> 851\u001b[0;31m         return self._input_request(str(prompt),\n\u001b[0m\u001b[1;32m    852\u001b[0m             \u001b[0mself\u001b[0m\u001b[0;34m.\u001b[0m\u001b[0m_parent_ident\u001b[0m\u001b[0;34m,\u001b[0m\u001b[0;34m\u001b[0m\u001b[0;34m\u001b[0m\u001b[0m\n\u001b[1;32m    853\u001b[0m             \u001b[0mself\u001b[0m\u001b[0;34m.\u001b[0m\u001b[0m_parent_header\u001b[0m\u001b[0;34m,\u001b[0m\u001b[0;34m\u001b[0m\u001b[0;34m\u001b[0m\u001b[0m\n",
            "\u001b[0;32m/usr/local/lib/python3.10/dist-packages/ipykernel/kernelbase.py\u001b[0m in \u001b[0;36m_input_request\u001b[0;34m(self, prompt, ident, parent, password)\u001b[0m\n\u001b[1;32m    893\u001b[0m             \u001b[0;32mexcept\u001b[0m \u001b[0mKeyboardInterrupt\u001b[0m\u001b[0;34m:\u001b[0m\u001b[0;34m\u001b[0m\u001b[0;34m\u001b[0m\u001b[0m\n\u001b[1;32m    894\u001b[0m                 \u001b[0;31m# re-raise KeyboardInterrupt, to truncate traceback\u001b[0m\u001b[0;34m\u001b[0m\u001b[0;34m\u001b[0m\u001b[0m\n\u001b[0;32m--> 895\u001b[0;31m                 \u001b[0;32mraise\u001b[0m \u001b[0mKeyboardInterrupt\u001b[0m\u001b[0;34m(\u001b[0m\u001b[0;34m\"Interrupted by user\"\u001b[0m\u001b[0;34m)\u001b[0m \u001b[0;32mfrom\u001b[0m \u001b[0;32mNone\u001b[0m\u001b[0;34m\u001b[0m\u001b[0;34m\u001b[0m\u001b[0m\n\u001b[0m\u001b[1;32m    896\u001b[0m             \u001b[0;32mexcept\u001b[0m \u001b[0mException\u001b[0m \u001b[0;32mas\u001b[0m \u001b[0me\u001b[0m\u001b[0;34m:\u001b[0m\u001b[0;34m\u001b[0m\u001b[0;34m\u001b[0m\u001b[0m\n\u001b[1;32m    897\u001b[0m                 \u001b[0mself\u001b[0m\u001b[0;34m.\u001b[0m\u001b[0mlog\u001b[0m\u001b[0;34m.\u001b[0m\u001b[0mwarning\u001b[0m\u001b[0;34m(\u001b[0m\u001b[0;34m\"Invalid Message:\"\u001b[0m\u001b[0;34m,\u001b[0m \u001b[0mexc_info\u001b[0m\u001b[0;34m=\u001b[0m\u001b[0;32mTrue\u001b[0m\u001b[0;34m)\u001b[0m\u001b[0;34m\u001b[0m\u001b[0;34m\u001b[0m\u001b[0m\n",
            "\u001b[0;31mKeyboardInterrupt\u001b[0m: Interrupted by user"
          ]
        }
      ],
      "source": [
        "import requests\n",
        "import json\n",
        "import webbrowser\n",
        "\n",
        "API_KEY = \"SEU_API_KEY_AQUI\"\n",
        "\n",
        "def detectar_intencao(texto):\n",
        "  \"\"\"Detecta a intenção do usuário usando a API Dialogflow.\"\"\"\n",
        "  url = \"https://dialogflow.googleapis.com/v2/projects/seu-project-id/agent/sessions/unique-session-id:detectIntent\"\n",
        "  headers = {\n",
        "    \"Authorization\": \"Bearer {}\".format(API_KEY),\n",
        "    \"Content-Type\": \"application/json; charset=utf-8\",\n",
        "  }\n",
        "  data = {\n",
        "    \"queryInput\": {\n",
        "      \"text\": {\n",
        "        \"text\": texto,\n",
        "        \"languageCode\": \"pt-BR\",\n",
        "      },\n",
        "    },\n",
        "  }\n",
        "  try:\n",
        "    resposta = requests.post(url, headers=headers, data=json.dumps(data))\n",
        "    resposta.raise_for_status()  # Lança uma exceção se houver erro na requisição\n",
        "    resposta_json = resposta.json()\n",
        "    intencao = resposta_json['queryResult']['intent']['displayName']\n",
        "    resposta_texto = resposta_json['queryResult']['fulfillmentText']\n",
        "    return intencao, resposta_texto\n",
        "  except requests.exceptions.RequestException as e:\n",
        "    print(f\"Erro na requisição à API Dialogflow: {e}\")\n",
        "    return None, \"Desculpe, estou com problemas para te entender agora.\"\n",
        "\n",
        "def buscar_youtube(query):\n",
        "  \"\"\"Abre uma busca no YouTube com base na query.\"\"\"\n",
        "  url_pesquisa = f\"https://www.youtube.com/results?search_query={query}\"\n",
        "  webbrowser.open(url_pesquisa)\n",
        "\n",
        "def jap_ai():\n",
        "  \"\"\"Função principal do chatbot.\"\"\"\n",
        "  print(\"Olá! Sou o jap_ai, seu guia para a cultura do Japão.\")\n",
        "  while True:\n",
        "    pergunta_usuario = input(\"O que você gostaria de saber? (ou digite 'sair' para finalizar): \")\n",
        "    if pergunta_usuario.lower() == \"sair\":\n",
        "      break\n",
        "\n",
        "    intencao, resposta_texto = detectar_intencao(pergunta_usuario)\n",
        "\n",
        "    print(\"Jap_AI:\", resposta_texto)\n",
        "\n",
        "    if intencao == \"BuscarVideo\":\n",
        "      buscar_youtube(f\"{pergunta_usuario} cultura do japão\")\n",
        "    elif intencao == \"BuscarMusica\":\n",
        "      buscar_youtube(f\"{pergunta_usuario} música japonesa\")\n",
        "\n",
        "if __name__ == '__main__':\n",
        "  jap_ai()"
      ]
    }
  ]
}