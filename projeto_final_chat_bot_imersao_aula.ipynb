{
  "nbformat": 4,
  "nbformat_minor": 0,
  "metadata": {
    "colab": {
      "provenance": [],
      "authorship_tag": "ABX9TyMxuEBZJkB6YzT21FExaIt4",
      "include_colab_link": true
    },
    "kernelspec": {
      "name": "python3",
      "display_name": "Python 3"
    },
    "language_info": {
      "name": "python"
    }
  },
  "cells": [
    {
      "cell_type": "markdown",
      "metadata": {
        "id": "view-in-github",
        "colab_type": "text"
      },
      "source": [
        "<a href=\"https://colab.research.google.com/github/chicoscarpini/projeto-final-imersao-ia-aula4/blob/main/projeto_final_chat_bot_imersao_aula.ipynb\" target=\"_parent\"><img src=\"https://colab.research.google.com/assets/colab-badge.svg\" alt=\"Open In Colab\"/></a>"
      ]
    },
    {
      "cell_type": "code",
      "execution_count": null,
      "metadata": {
        "colab": {
          "base_uri": "https://localhost:8080/"
        },
        "id": "QNolQRwl_hxx",
        "outputId": "79f6f116-3ca4-4726-fad1-396bd7995556"
      },
      "outputs": [
        {
          "output_type": "stream",
          "name": "stdout",
          "text": [
            "Olá! Sou o jap_ai, seu guia para a cultura do Japão.\n"
          ]
        }
      ],
      "source": [
        "import requests\n",
        "import json\n",
        "import webbrowser\n",
        "from google.colab import userdata\n",
        "api_key = userdata.get (`SECRET_KEY`)\n",
        "API_KEY = \"api_key=api_key\"\n",
        "\n",
        "def detectar_intencao(texto):\n",
        "  \"\"\"Detecta a intenção do usuário usando a API Dialogflow.\"\"\"\n",
        "  url = \"https://dialogflow.googleapis.com/v2/projects/seu-project-id/agent/sessions/unique-session-id:detectIntent\"\n",
        "  headers = {\n",
        "    \"Authorization\": \"Bearer {}\".format(API_KEY),\n",
        "    \"Content-Type\": \"application/json; charset=utf-8\",\n",
        "  }\n",
        "  data = {\n",
        "    \"queryInput\": {\n",
        "      \"text\": {\n",
        "        \"text\": texto,\n",
        "        \"languageCode\": \"pt-BR\",\n",
        "      },\n",
        "    },\n",
        "  }\n",
        "  try:\n",
        "    resposta = requests.post(url, headers=headers, data=json.dumps(data))\n",
        "    resposta.raise_for_status()  # Lança uma exceção se houver erro na requisição\n",
        "    resposta_json = resposta.json()\n",
        "    intencao = resposta_json['queryResult']['intent']['displayName']\n",
        "    resposta_texto = resposta_json['queryResult']['fulfillmentText']\n",
        "    return intencao, resposta_texto\n",
        "  except requests.exceptions.RequestException as e:\n",
        "    print(f\"Erro na requisição à API Dialogflow: {e}\")\n",
        "    return None, \"Desculpe, estou com problemas para te entender agora.\"\n",
        "\n",
        "def buscar_youtube(query):\n",
        "  \"\"\"Abre uma busca no YouTube com base na query.\"\"\"\n",
        "  url_pesquisa = f\"https://www.youtube.com/results?search_query={query}\"\n",
        "  webbrowser.open(url_pesquisa)\n",
        "\n",
        "def jap_ai():\n",
        "  \"\"\"Função principal do chatbot.\"\"\"\n",
        "  print(\"Olá! Sou o jap_ai, seu guia para a cultura do Japão.\")\n",
        "  while True:\n",
        "    pergunta_usuario = input(\"O que você gostaria de saber? (ou digite 'sair' para finalizar): \")\n",
        "    if pergunta_usuario.lower() == \"sair\":\n",
        "      break\n",
        "\n",
        "    intencao, resposta_texto = detectar_intencao(pergunta_usuario)\n",
        "\n",
        "    print(\"Jap_AI:\", resposta_texto)\n",
        "\n",
        "    if intencao == \"BuscarVideo\":\n",
        "      buscar_youtube(f\"{pergunta_usuario} cultura do japão\")\n",
        "    elif intencao == \"BuscarMusica\":\n",
        "      buscar_youtube(f\"{pergunta_usuario} música japonesa\")\n",
        "\n",
        "if __name__ == '__main__':\n",
        "  jap_ai()"
      ]
    }
  ]
}